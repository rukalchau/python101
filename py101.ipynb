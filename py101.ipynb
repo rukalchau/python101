{
 "cells": [
  {
   "cell_type": "code",
   "execution_count": 25,
   "metadata": {},
   "outputs": [
    {
     "name": "stdout",
     "output_type": "stream",
     "text": [
      "Hello Wolrd\n"
     ]
    }
   ],
   "source": [
    "print(\"Hello Wolrd\")"
   ]
  },
  {
   "attachments": {},
   "cell_type": "markdown",
   "metadata": {},
   "source": [
    "Why Programming?\n",
    "\n",
    "Programming allows us to automate repetitive tasks and solve complex problems efficiently. Let's consider the task of adding two numbers. It's relatively easy to perform this calculation manually:\n",
    "\n",
    "1 + 1 = 2\n",
    "\n",
    "1 + 2 = 3\n",
    "...\n",
    "\n",
    "However, if we want to add two groups of numbers in pairs, such as:\n",
    "\n",
    "[1, 2, 3, 4, 5, 6, 7, 8, 9, 10]\n",
    "\n",
    "and\n",
    "\n",
    "[2, 3, 5, 7, 9, 0, 39, 9, 1, 3]\n",
    "\n",
    "Performing this task by hand becomes tedious and monotonous. Our brains are capable of handling more complex challenges, and this repetitive task can quickly become boring. That's where programming comes in.\n",
    "\n",
    "By writing just a few lines of code, we can instruct a machine to perform this task for us. Programming provides us with a powerful toolset to automate repetitive processes and tackle more complex problems. Instead of manually adding pairs of numbers, we can leverage the computational capabilities of a computer to quickly and accurately compute the desired result.\n",
    "\n",
    "Programming allows us to create algorithms and instructions that guide machines to perform tasks efficiently and accurately, saving us time and effort. It empowers us to solve problems on a larger scale and automate tasks that would otherwise be impractical or tiresome to do manually.\n",
    "\n",
    "So, the primary reason for programming is to leverage the power of computers to automate repetitive tasks, solve complex problems, and make our lives easier. By writing code, we can accomplish in seconds what might take hours or even days to complete manually. Programming is a valuable skill that enables us to harness the potential of technology and enhance our productivity in various domains."
   ]
  },
  {
   "cell_type": "code",
   "execution_count": 26,
   "metadata": {},
   "outputs": [
    {
     "name": "stdout",
     "output_type": "stream",
     "text": [
      "3 5 8 11 14 6 46 17 10 13 "
     ]
    }
   ],
   "source": [
    "a=[1,2,3,4,5,6,7,8,9,10]\n",
    "b=[2,3,5,7,9,0,39,9,1,3]\n",
    "for i in range(10):\n",
    "    print(a[i]+b[i],end=\" \")"
   ]
  },
  {
   "cell_type": "code",
   "execution_count": 27,
   "metadata": {},
   "outputs": [
    {
     "name": "stdout",
     "output_type": "stream",
     "text": [
      "[ 3  5  8 11 14  6 46 17 10 13]\n"
     ]
    }
   ],
   "source": [
    "import numpy as np \n",
    "a=np.array([1,2,3,4,5,6,7,8,9,10])\n",
    "b=np.array([2,3,5,7,9,0,39,9,1,3])\n",
    "print(a+b)"
   ]
  },
  {
   "attachments": {},
   "cell_type": "markdown",
   "metadata": {},
   "source": [
    "In this notebook, I will present you with examples and exercises to help you embark on your journey of learning programming. This notebook is entirely free, and I will continuously update it. If you have any suggestions or encounter any bugs in my code, please don't hesitate to contact me.\n",
    "\n",
    "Email: rukalchau@gmail.com"
   ]
  },
  {
   "attachments": {},
   "cell_type": "markdown",
   "metadata": {},
   "source": [
    "comments\n",
    "\n",
    "Comments in programming are lines of code that provide explanations or additional information about the code. They are used for documentation, code explanation, debugging, and troubleshooting. Best practices include keeping comments concise, clear, and relevant, and updating them when code changes.\n",
    "\n",
    "In this notebook, I will use comment to do the explaination as well\n",
    "It looks like "
   ]
  },
  {
   "cell_type": "code",
   "execution_count": 28,
   "metadata": {},
   "outputs": [
    {
     "name": "stdout",
     "output_type": "stream",
     "text": [
      "24\n"
     ]
    }
   ],
   "source": [
    "a=11\n",
    "# assign 11 to a\n",
    "b=13\n",
    "# assign 13 to b\n",
    "print(a+b)\n",
    "# print out the result of a+b"
   ]
  },
  {
   "attachments": {},
   "cell_type": "markdown",
   "metadata": {},
   "source": [
    "in python anything following after # is treated as comments, comments won't be excuted\n",
    "\n",
    "EX1:\n",
    "write down the output of following program"
   ]
  },
  {
   "cell_type": "code",
   "execution_count": 29,
   "metadata": {},
   "outputs": [
    {
     "name": "stdout",
     "output_type": "stream",
     "text": [
      "3\n"
     ]
    }
   ],
   "source": [
    "a=1\n",
    "b=a+1\n",
    "c=b+1\n",
    "#c=19\n",
    "print(c)"
   ]
  },
  {
   "attachments": {},
   "cell_type": "markdown",
   "metadata": {},
   "source": [
    "EX2:comment some lines to make the output as 1 3 6 7 "
   ]
  },
  {
   "cell_type": "code",
   "execution_count": 30,
   "metadata": {},
   "outputs": [
    {
     "name": "stdout",
     "output_type": "stream",
     "text": [
      "1 2 3 4 5 6 7 "
     ]
    }
   ],
   "source": [
    "print(1,end=\" \")\n",
    "print(2,end=\" \")\n",
    "print(3,end=\" \")\n",
    "print(4,end=\" \")\n",
    "print(5,end=\" \")\n",
    "print(6,end=\" \")\n",
    "print(7,end=\" \")"
   ]
  },
  {
   "attachments": {},
   "cell_type": "markdown",
   "metadata": {},
   "source": [
    "Variables and some common Data types\n",
    "\n",
    "You can imagine variable as container in programing, in fact, there are different types of containers(variables) in programing, we call it data type. \n",
    "\n",
    "for exmaple we have\n",
    "int to represent a integer\n",
    "float to represent a floating point number\n",
    "\n",
    "in python you dont have to declaration the data type, python will do it for you\n",
    "but this could be bad"
   ]
  },
  {
   "cell_type": "code",
   "execution_count": 31,
   "metadata": {},
   "outputs": [
    {
     "name": "stdout",
     "output_type": "stream",
     "text": [
      "<class 'int'>\n",
      "<class 'float'>\n"
     ]
    }
   ],
   "source": [
    "a=1\n",
    "# create varible a and assign 1 to it \n",
    "b=1.0\n",
    "# create varible b and assign 1.0 to it \n",
    "print(type(a))\n",
    "print(type(b))\n",
    "# we use type() function to check data type of a variable"
   ]
  },
  {
   "attachments": {},
   "cell_type": "markdown",
   "metadata": {},
   "source": [
    "EX3: 1 and 1.0 have the same value in math, then what's the difference between these two numbers? "
   ]
  },
  {
   "attachments": {},
   "cell_type": "markdown",
   "metadata": {},
   "source": [
    "EX4: if we have variable A as an integer and variable B as a float, what is the data type of (A+B)"
   ]
  },
  {
   "cell_type": "code",
   "execution_count": 32,
   "metadata": {},
   "outputs": [
    {
     "name": "stdout",
     "output_type": "stream",
     "text": [
      "<class 'float'>\n"
     ]
    }
   ],
   "source": [
    "A=2\n",
    "B=3.5\n",
    "print(type(A+B))"
   ]
  },
  {
   "attachments": {},
   "cell_type": "markdown",
   "metadata": {},
   "source": [
    "specify the variable\n",
    "\n",
    "if you want to assign 2 to variable A as a float point number\n",
    "you can use float() keyword to specify the data type"
   ]
  },
  {
   "cell_type": "code",
   "execution_count": 33,
   "metadata": {},
   "outputs": [
    {
     "name": "stdout",
     "output_type": "stream",
     "text": [
      "<class 'float'>\n"
     ]
    }
   ],
   "source": [
    "A = float(20)\n",
    "print(type(A))"
   ]
  },
  {
   "attachments": {},
   "cell_type": "markdown",
   "metadata": {},
   "source": [
    "you can also use this keyword to convert a int(integer) to float(float point number)\n",
    "\n",
    "we call this conversion casting\n",
    "\n",
    "please keep in mind that the behaviors of casting vary"
   ]
  },
  {
   "cell_type": "code",
   "execution_count": 34,
   "metadata": {},
   "outputs": [
    {
     "name": "stdout",
     "output_type": "stream",
     "text": [
      "<class 'int'>\n",
      "<class 'float'>\n"
     ]
    }
   ],
   "source": [
    "a=10\n",
    "#assign 10 to a\n",
    "print(type(a))\n",
    "#type of a should be int\n",
    "b=float(a)\n",
    "print(type(b))"
   ]
  },
  {
   "cell_type": "markdown",
   "metadata": {},
   "source": [
    "Python has these build-in data type below:\n",
    "\n",
    "    Text Type:\tstr\n",
    "    Numeric Types:\tint, float, complex\n",
    "    Sequence Types:\tlist, tuple, range\n",
    "    Mapping Type:\tdict\n",
    "    Set Types:\tset, frozenset\n",
    "    Boolean Type:\tbool\n",
    "    Binary Types:\tbytes, bytearray, memoryview\n",
    "    None Type:\tNoneType\n",
    "We will cover some of them in this notebook, we can always do some self learning on them\n",
    "\n",
    "this notebook will cover:\n",
    "\n",
    "    Text Type:\tstr\n",
    "    Numeric Types:\tint, float\n",
    "    Sequence Types:\tlist, tuple, range\n",
    "    Mapping Type:\tdict\n",
    "    Set Types:\tset\n",
    "    Boolean Type:\tbool\n",
    "    Binary Types:\tbytes\n",
    "    None Type:\tNoneType"
   ]
  },
  {
   "attachments": {},
   "cell_type": "markdown",
   "metadata": {},
   "source": [
    "Boolean\n",
    "\n",
    "TRUE or FALSE"
   ]
  },
  {
   "cell_type": "code",
   "execution_count": 35,
   "metadata": {},
   "outputs": [
    {
     "name": "stdout",
     "output_type": "stream",
     "text": [
      "True\n",
      "<class 'bool'>\n"
     ]
    }
   ],
   "source": [
    "is_Red=bool(True)\n",
    "#using keyword 'bool' to declare a boolean call is_Red and assign True to it \n",
    "is_Green=False\n",
    "#you can also omit the keyword 'bool' \n",
    "\n",
    "print(is_Red)\n",
    "print(type(is_Red))"
   ]
  },
  {
   "attachments": {},
   "cell_type": "markdown",
   "metadata": {},
   "source": [
    "AND\n",
    "\n",
    "OR \n",
    "\n",
    "NOT \n",
    "\n",
    "AND Gate\\\n",
    "The AND gate gives an output of 1 if both the two inputs are 1, it gives 0 otherwise. \n",
    "\n",
    "OR Gate\\\n",
    "The OR gate gives an output of 1 if either of the two inputs are 1, it gives 0 otherwise. "
   ]
  },
  {
   "cell_type": "code",
   "execution_count": 36,
   "metadata": {},
   "outputs": [
    {
     "name": "stdout",
     "output_type": "stream",
     "text": [
      "False\n",
      "True\n",
      "False\n",
      "True\n"
     ]
    }
   ],
   "source": [
    "print(not is_Red)\n",
    "print(not is_Green)\n",
    "print(is_Green and is_Red)\n",
    "print(is_Green or is_Red)"
   ]
  },
  {
   "attachments": {},
   "cell_type": "markdown",
   "metadata": {},
   "source": [
    "Control Flow\n",
    "\n",
    "In computer programming, control flow refers to the order in which the instructions or statements of a program are executed. It determines the path that the program takes as it executes, based on various conditions and decisions made during runtime.\n",
    "\n",
    "Control flow is typically managed through conditional statements (such as \"if\" and \"else\" statements) and loops (such as \"for\" and \"while\" loops), which dictate how the program will proceed based on the values of variables or the outcome of previous instructions.\n",
    "\n",
    "In essence, control flow is what allows a program to make decisions and execute different sets of instructions based on the current state of the program, user input, or other external factors. It is a fundamental concept in programming and is essential for creating complex and useful software applications."
   ]
  },
  {
   "cell_type": "code",
   "execution_count": 37,
   "metadata": {},
   "outputs": [
    {
     "name": "stdout",
     "output_type": "stream",
     "text": [
      "you got more than 50\n"
     ]
    }
   ],
   "source": [
    "Balance=100\n",
    "\n",
    "if Balance > 50 :\n",
    "    print(\"you got more than 50\")\n",
    "\n",
    "if Balance < 50 :\n",
    "    print(\"go get a job!\")"
   ]
  },
  {
   "cell_type": "code",
   "execution_count": 40,
   "metadata": {},
   "outputs": [
    {
     "name": "stdout",
     "output_type": "stream",
     "text": [
      "check gas\n",
      "Emergency Flashers\n"
     ]
    }
   ],
   "source": [
    "Gas=False\n",
    "Traffic_Light=\"GREEN\"\n",
    "\n",
    "if Traffic_Light==\"GREEN\":\n",
    "    print(\"check gas\")\n",
    "    if Gas :\n",
    "        print(\"Gas\")\n",
    "    else:\n",
    "        print(\"Emergency Flashers\")"
   ]
  },
  {
   "attachments": {},
   "cell_type": "markdown",
   "metadata": {},
   "source": [
    "While\n",
    "\n",
    "In Python, the \"while\" loop is used to repeatedly execute a block of code as long as a certain condition is true. The syntax for a \"while\" loop in Python is as follows:"
   ]
  },
  {
   "cell_type": "code",
   "execution_count": null,
   "metadata": {},
   "outputs": [],
   "source": [
    "while condition:\n",
    "    # code to execute while condition is true"
   ]
  },
  {
   "attachments": {},
   "cell_type": "markdown",
   "metadata": {},
   "source": [
    "In this syntax, \"condition\" is a Boolean expression that is evaluated at the beginning of each iteration of the loop. If the condition is True, the indented block of code following the colon is executed; if the condition is False, the loop is exited and execution continues with the next statement after the loop."
   ]
  },
  {
   "cell_type": "code",
   "execution_count": 46,
   "metadata": {},
   "outputs": [
    {
     "name": "stdout",
     "output_type": "stream",
     "text": [
      "speed : 30 KMH\n",
      "speed : 50 KMH\n",
      "speed : 70 KMH\n",
      "speed : 90 KMH\n",
      "speed : 110 KMH\n",
      "out of the loop\n"
     ]
    }
   ],
   "source": [
    "Speed=10\n",
    "while Speed <=100:\n",
    "    Speed+=20\n",
    "    print('speed : '+ str(Speed) + \" KMH\")\n",
    "print(\"out of the loop\")"
   ]
  },
  {
   "attachments": {},
   "cell_type": "markdown",
   "metadata": {},
   "source": [
    "Note that it's important to ensure that the condition in a \"while\" loop eventually becomes False, otherwise the loop will continue indefinitely and the program will hang."
   ]
  },
  {
   "attachments": {},
   "cell_type": "markdown",
   "metadata": {},
   "source": [
    "For\n",
    "\n",
    "In Python, the \"for\" loop is used to iterate over a sequence (such as a list, tuple, or string) or other iterable object. The syntax for a \"for\" loop in Python is as follows:"
   ]
  },
  {
   "cell_type": "code",
   "execution_count": null,
   "metadata": {},
   "outputs": [],
   "source": [
    "for variable in iterable:\n",
    "    # code to execute for each item in iterable"
   ]
  },
  {
   "attachments": {},
   "cell_type": "markdown",
   "metadata": {},
   "source": [
    "In this syntax, \"variable\" is a new variable that is created each time through the loop and takes on the value of the next item in the iterable. The indented block of code following the colon is the body of the loop, and will be executed once for each item in the iterable.\n",
    "\n",
    "For example, let's say we have a list of numbers:"
   ]
  },
  {
   "cell_type": "code",
   "execution_count": 48,
   "metadata": {},
   "outputs": [],
   "source": [
    "numbers = [1, 2, 3, 4, 5]"
   ]
  },
  {
   "attachments": {},
   "cell_type": "markdown",
   "metadata": {},
   "source": [
    "We can use a \"for\" loop to iterate over this list and print each number:"
   ]
  },
  {
   "cell_type": "code",
   "execution_count": 49,
   "metadata": {},
   "outputs": [
    {
     "name": "stdout",
     "output_type": "stream",
     "text": [
      "1\n",
      "2\n",
      "3\n",
      "4\n",
      "5\n"
     ]
    }
   ],
   "source": [
    "for num in numbers:\n",
    "    print(num)"
   ]
  },
  {
   "attachments": {},
   "cell_type": "markdown",
   "metadata": {},
   "source": [
    "Note that the \"for\" loop automatically stops when it has iterated over all the items in the iterable."
   ]
  },
  {
   "cell_type": "markdown",
   "metadata": {},
   "source": [
    "If\n",
    "\n",
    "Consider you are trying to make your AC smart by a simple logic, if the temperature if higher than 30 C, turn the AC on, if the temperature is lower than 22 C, turn the AC off.\n",
    "\n",
    "with data: temperature \n",
    "you can do this with if keyword\n",
    "\n",
    "here is a example:"
   ]
  },
  {
   "cell_type": "code",
   "execution_count": null,
   "metadata": {},
   "outputs": [],
   "source": [
    "temp=32\n",
    "#assume we get the temperature data from some data moniter in your room\n",
    "#temperature is set to 32 C\n",
    "\n",
    "if (temp>30):\n",
    "# check if temperature > 30 C\n",
    "    print(\"AC ON\")\n",
    "    # simulate turnning the AC ON\n",
    "\n",
    "if (temp<22):\n",
    "# check if temperature < 22 C\n",
    "\n",
    "    print(\"AC OFF\")\n",
    "    # simulate turnning the AC ON\n",
    "\n",
    "# boolean expression temp > 30  or temp < 22 return a bool value \n",
    "# if the value inside the () after the if keyword is ture \n",
    "# the code inside the if scope will be excuted \n"
   ]
  },
  {
   "cell_type": "markdown",
   "metadata": {},
   "source": [
    "in this example we only have 5 lines of codes, every time you run this script, it get the temperature of your room and turning on your turning off your AC base on the temperature\n",
    "\n",
    "but this is not smart enough!\n",
    "\n",
    "by using while loop you can build a more powerful version of this AC switcher "
   ]
  },
  {
   "cell_type": "code",
   "execution_count": null,
   "metadata": {},
   "outputs": [],
   "source": [
    "# some more example \n",
    "temp = 32\n",
    "\n",
    "if (temp > 25):\n",
    "    print(\"AC ON\")\n",
    "else:\n",
    "    print(\"AC OFF\")\n",
    "# in this exmaple,    else:     perform as      if (temp <=25):\n",
    "# ELSE means all the other cases of the condition your put inside the if ():\n"
   ]
  }
 ],
 "metadata": {
  "kernelspec": {
   "display_name": "Python 3",
   "language": "python",
   "name": "python3"
  },
  "language_info": {
   "codemirror_mode": {
    "name": "ipython",
    "version": 3
   },
   "file_extension": ".py",
   "mimetype": "text/x-python",
   "name": "python",
   "nbconvert_exporter": "python",
   "pygments_lexer": "ipython3",
   "version": "3.10.2"
  },
  "orig_nbformat": 4
 },
 "nbformat": 4,
 "nbformat_minor": 2
}
